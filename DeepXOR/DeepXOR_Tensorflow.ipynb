{
 "cells": [
  {
   "cell_type": "markdown",
   "metadata": {},
   "source": [
    "# Learning XOR with Tensorflow"
   ]
  },
  {
   "cell_type": "markdown",
   "metadata": {},
   "source": [
    "## Imports"
   ]
  },
  {
   "cell_type": "code",
   "execution_count": 1,
   "metadata": {
    "collapsed": false
   },
   "outputs": [
    {
     "name": "stderr",
     "output_type": "stream",
     "text": [
      "/Users/Kevin/anaconda/lib/python3.6/site-packages/h5py/__init__.py:34: FutureWarning: Conversion of the second argument of issubdtype from `float` to `np.floating` is deprecated. In future, it will be treated as `np.float64 == np.dtype(float).type`.\n",
      "  from ._conv import register_converters as _register_converters\n"
     ]
    }
   ],
   "source": [
    "import os\n",
    "import sys\n",
    "\n",
    "import numpy as np\n",
    "np.random.seed(123)  # for reproducibility\n",
    "import matplotlib.pyplot as plt\n",
    "%matplotlib inline\n",
    "\n",
    "import tensorflow as tf"
   ]
  },
  {
   "cell_type": "code",
   "execution_count": 2,
   "metadata": {
    "collapsed": false
   },
   "outputs": [
    {
     "name": "stdout",
     "output_type": "stream",
     "text": [
      "Logging to dir: /Users/Kevin/Documents/Projekte/tensorflow/DeepStuff/DeepXOR/TB_XOR_Tensorflow\n"
     ]
    }
   ],
   "source": [
    "# set LOG_DIR based on this file's name ()\n",
    "LOG_DIR=os.path.abspath('./TB_XOR_Tensorflow')\n",
    "print('Logging to dir: {}'.format(LOG_DIR))"
   ]
  },
  {
   "cell_type": "markdown",
   "metadata": {},
   "source": [
    "## Input Data and Labels"
   ]
  },
  {
   "cell_type": "code",
   "execution_count": 3,
   "metadata": {
    "collapsed": true
   },
   "outputs": [],
   "source": [
    "X = np.array([[0,0],[0,1],[1,0],[1,1]])\n",
    "y = np.array([[0],[1],[1],[0]])"
   ]
  },
  {
   "cell_type": "markdown",
   "metadata": {},
   "source": [
    "## Define the Linear Model"
   ]
  },
  {
   "cell_type": "code",
   "execution_count": 4,
   "metadata": {
    "collapsed": true
   },
   "outputs": [],
   "source": [
    "def linearModel():\n",
    "  \"\"\" A poor linear model for XOR \"\"\"\n",
    "  # other params\n",
    "  batch_size = 4\n",
    "  num_labels = 2\n",
    "\n",
    "  graph = tf.Graph()\n",
    "  with graph.as_default():\n",
    "    # create placeholders\n",
    "    _X = tf.placeholder(tf.float32, shape=(batch_size, num_labels), name='x-input')\n",
    "    _y = tf.placeholder(tf.float32, shape=(batch_size, 1), name='y-input')\n",
    "\n",
    "    # create model params\n",
    "    weights = tf.Variable(tf.random_uniform([num_labels, 1], -1, 1), name=\"weights\")\n",
    "    bias = tf.Variable(tf.zeros([1]), name=\"bias\")\n",
    "    output = tf.add(tf.matmul(_X, weights), bias, name='output')\n",
    "    loss = tf.losses.mean_squared_error(labels=_y, predictions=output)\n",
    "\n",
    "    # # RMSProp Optimizer\n",
    "    learning_rate = tf.constant(0.01, name='learning_rate')\n",
    "    optimizer = tf.train.RMSPropOptimizer(learning_rate, name='optimizer').minimize(loss)\n",
    "  return graph, _X, _y, output, loss, learning_rate, optimizer"
   ]
  },
  {
   "cell_type": "code",
   "execution_count": 5,
   "metadata": {
    "collapsed": false,
    "scrolled": true
   },
   "outputs": [],
   "source": [
    "def run_model(model_fn, num_steps=1001):\n",
    "  losses = []\n",
    "  # create model and get required operations / tensors\n",
    "  graph, _X, _y, output, loss, learning_rate, optimizer = model_fn()\n",
    "  # write graph events to disk for using tensorboard\n",
    "  tf.summary.FileWriter(logdir=LOG_DIR, graph=graph)\n",
    "  # run session\n",
    "  with tf.Session(graph=graph) as sess:\n",
    "    tf.global_variables_initializer().run()\n",
    "    for step in np.arange(num_steps):\n",
    "        # feed the net with our inputs and desired outputs.\n",
    "        feed_dict = {_X: X, _y: y }\n",
    "        _, lr, l, out = sess.run([optimizer, learning_rate, loss, output], feed_dict=feed_dict)\n",
    "        losses.append(l)\n",
    "        if step % (num_steps // 10) == 0:\n",
    "          print('Loss at step {}: {}'.format(step, l))\n",
    "    print('Final output: \\n{}'.format(out))\n",
    "  return losses"
   ]
  },
  {
   "cell_type": "markdown",
   "metadata": {},
   "source": [
    "### Run Session (and 'timeit')"
   ]
  },
  {
   "cell_type": "code",
   "execution_count": 7,
   "metadata": {
    "collapsed": false,
    "scrolled": true
   },
   "outputs": [
    {
     "name": "stdout",
     "output_type": "stream",
     "text": [
      "Loss at step 0: 0.517726480960846\n",
      "Loss at step 100: 0.25005292892456055\n",
      "Loss at step 200: 0.25010615587234497\n",
      "Loss at step 300: 0.25011253356933594\n",
      "Loss at step 400: 0.25011247396469116\n",
      "Loss at step 500: 0.25011247396469116\n",
      "Loss at step 600: 0.25011247396469116\n",
      "Loss at step 700: 0.25011247396469116\n",
      "Loss at step 800: 0.25011247396469116\n",
      "Loss at step 900: 0.25011247396469116\n",
      "Loss at step 1000: 0.25011247396469116\n",
      "Final output: \n",
      "[[0.495]\n",
      " [0.49 ]\n",
      " [0.49 ]\n",
      " [0.485]]\n",
      "Loss at step 0: 0.6839936971664429\n",
      "Loss at step 100: 0.25000861287117004\n",
      "Loss at step 200: 0.2501055598258972\n",
      "Loss at step 300: 0.25011250376701355\n",
      "Loss at step 400: 0.25011250376701355\n",
      "Loss at step 500: 0.25011250376701355\n",
      "Loss at step 600: 0.25011250376701355\n",
      "Loss at step 700: 0.25011250376701355\n",
      "Loss at step 800: 0.25011250376701355\n",
      "Loss at step 900: 0.25011250376701355\n",
      "Loss at step 1000: 0.25011250376701355\n",
      "Final output: \n",
      "[[0.505]\n",
      " [0.51 ]\n",
      " [0.51 ]\n",
      " [0.515]]\n",
      "Loss at step 0: 0.5149340033531189\n",
      "Loss at step 100: 0.25195810198783875\n",
      "Loss at step 200: 0.2501085102558136\n",
      "Loss at step 300: 0.25011253356933594\n",
      "Loss at step 400: 0.25011247396469116\n",
      "Loss at step 500: 0.25011247396469116\n",
      "Loss at step 600: 0.25011247396469116\n",
      "Loss at step 700: 0.25011247396469116\n",
      "Loss at step 800: 0.25011247396469116\n",
      "Loss at step 900: 0.25011247396469116\n",
      "Loss at step 1000: 0.25011247396469116\n",
      "Final output: \n",
      "[[0.495]\n",
      " [0.49 ]\n",
      " [0.49 ]\n",
      " [0.485]]\n",
      "Loss at step 0: 1.2309911251068115\n",
      "Loss at step 100: 0.25191935896873474\n",
      "Loss at step 200: 0.25011271238327026\n",
      "Loss at step 300: 0.2501124441623688\n",
      "Loss at step 400: 0.25011250376701355\n",
      "Loss at step 500: 0.25011250376701355\n",
      "Loss at step 600: 0.25011250376701355\n",
      "Loss at step 700: 0.25011250376701355\n",
      "Loss at step 800: 0.25011250376701355\n",
      "Loss at step 900: 0.25011250376701355\n",
      "Loss at step 1000: 0.25011250376701355\n",
      "Final output: \n",
      "[[0.505]\n",
      " [0.51 ]\n",
      " [0.51 ]\n",
      " [0.515]]\n",
      "1 loop, best of 3: 596 ms per loop\n"
     ]
    }
   ],
   "source": [
    "%timeit run_model(linearModel, num_steps=1001)"
   ]
  },
  {
   "cell_type": "code",
   "execution_count": 8,
   "metadata": {
    "collapsed": true
   },
   "outputs": [],
   "source": [
    "def plot_losses(losses):\n",
    "  plt.figure()\n",
    "  plt.plot(losses)\n",
    "  plt.grid()\n",
    "  plt.legend(['Losses'])\n",
    "  plt.show()"
   ]
  },
  {
   "cell_type": "code",
   "execution_count": 10,
   "metadata": {
    "collapsed": false
   },
   "outputs": [
    {
     "name": "stdout",
     "output_type": "stream",
     "text": [
      "Loss at step 0: 0.5404296517372131\n",
      "Loss at step 100: 0.2504018247127533\n",
      "Loss at step 200: 0.2501070499420166\n",
      "Loss at step 300: 0.25011247396469116\n",
      "Loss at step 400: 0.25011247396469116\n",
      "Loss at step 500: 0.25011250376701355\n",
      "Loss at step 600: 0.25011250376701355\n",
      "Loss at step 700: 0.25011250376701355\n",
      "Loss at step 800: 0.25011250376701355\n",
      "Loss at step 900: 0.25011250376701355\n",
      "Loss at step 1000: 0.25011250376701355\n",
      "Final output: \n",
      "[[0.505]\n",
      " [0.51 ]\n",
      " [0.51 ]\n",
      " [0.515]]\n"
     ]
    },
    {
     "data": {
      "image/png": "[encoded data removed]",
      "text/plain": [
       "<matplotlib.figure.Figure at 0x1204d72e8>"
      ]
     },
     "metadata": {},
     "output_type": "display_data"
    }
   ],
   "source": [
    "# run again, this time without timing\n",
    "losses = run_model(linearModel, 1001)\n",
    "plot_losses(losses)"
   ]
  },
  {
   "cell_type": "markdown",
   "metadata": {},
   "source": [
    "## Define the Two-Layer Model"
   ]
  },
  {
   "cell_type": "code",
   "execution_count": 11,
   "metadata": {
    "collapsed": true
   },
   "outputs": [],
   "source": [
    "def layeredModel():\n",
    "  \"\"\" A better model for XOR \"\"\"\n",
    "  # other params\n",
    "  batch_size = 4\n",
    "  num_labels = 2\n",
    "\n",
    "  graph = tf.Graph()\n",
    "  with graph.as_default():\n",
    "    # create placeholders\n",
    "    with tf.name_scope('inputs'):\n",
    "      _X = tf.placeholder(tf.float32, shape=(batch_size, num_labels), name='X')\n",
    "      _y = tf.placeholder(tf.float32, shape=(batch_size, 1), name='y')\n",
    "\n",
    "    # create model params\n",
    "    with tf.name_scope('hidden'):\n",
    "      hidden1 = tf.layers.dense(_X, 2, activation=tf.nn.relu, kernel_initializer=tf.random_uniform_initializer, name='hidden1')\n",
    "    with tf.name_scope('output'):\n",
    "      output = tf.layers.dense(hidden1, 1, activation=tf.sigmoid, kernel_initializer=tf.random_uniform_initializer, name='output')\n",
    "    with tf.name_scope('loss'):\n",
    "      loss = tf.losses.mean_squared_error(labels=_y, predictions=output)\n",
    "\n",
    "    # RMSProp Optimizer\n",
    "    learning_rate = tf.constant(0.01, name='learning_rate')\n",
    "    with tf.name_scope('optimizer'):\n",
    "      optimizer = tf.train.RMSPropOptimizer(learning_rate, name='optimizer').minimize(loss)\n",
    "  return graph, _X, _y, output, loss, learning_rate, optimizer"
   ]
  },
  {
   "cell_type": "code",
   "execution_count": 12,
   "metadata": {
    "collapsed": false
   },
   "outputs": [
    {
     "name": "stdout",
     "output_type": "stream",
     "text": [
      "Loss at step 0: 0.27821657061576843\n",
      "Loss at step 100: 0.251031756401062\n",
      "Loss at step 200: 0.20138375461101532\n",
      "Loss at step 300: 0.11820860952138901\n",
      "Loss at step 400: 0.04835834726691246\n",
      "Loss at step 500: 0.014605778269469738\n",
      "Loss at step 600: 0.0033741891384124756\n",
      "Loss at step 700: 0.0006511649116873741\n",
      "Loss at step 800: 0.0001164744608104229\n",
      "Loss at step 900: 2.001344364543911e-05\n",
      "Loss at step 1000: 5.0788580665539484e-06\n",
      "Final output: \n",
      "[[0.00373488]\n",
      " [0.99852484]\n",
      " [0.99852484]\n",
      " [0.00141913]]\n"
     ]
    },
    {
     "data": {
      "image/png": "[encoded data removed]",
      "text/plain": [
       "<matplotlib.figure.Figure at 0x120474438>"
      ]
     },
     "metadata": {},
     "output_type": "display_data"
    }
   ],
   "source": [
    "losses = run_model(layeredModel, 1001)\n",
    "plot_losses(losses)"
   ]
  },
  {
   "cell_type": "code",
   "execution_count": null,
   "metadata": {
    "collapsed": true
   },
   "outputs": [],
   "source": []
  }
 ],
 "metadata": {
  "kernelspec": {
   "display_name": "Python 3",
   "language": "python",
   "name": "python3"
  },
  "language_info": {
   "codemirror_mode": {
    "name": "ipython",
    "version": 3
   },
   "file_extension": ".py",
   "mimetype": "text/x-python",
   "name": "python",
   "nbconvert_exporter": "python",
   "pygments_lexer": "ipython3",
   "version": "3.6.0"
  }
 },
 "nbformat": 4,
 "nbformat_minor": 2
}
